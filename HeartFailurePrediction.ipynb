{
 "cells": [
  {
   "cell_type": "code",
   "execution_count": null,
   "id": "876f46c6-448b-4bc1-95e8-06628aea21c6",
   "metadata": {},
   "outputs": [],
   "source": []
  }
 ],
 "metadata": {
  "kernelspec": {
   "display_name": "",
   "name": ""
  },
  "language_info": {
   "name": ""
  }
 },
 "nbformat": 4,
 "nbformat_minor": 5
}
